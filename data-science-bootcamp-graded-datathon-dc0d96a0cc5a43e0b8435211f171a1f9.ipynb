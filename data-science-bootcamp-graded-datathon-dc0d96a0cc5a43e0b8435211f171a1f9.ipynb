{
  "nbformat": 4,
  "nbformat_minor": 0,
  "metadata": {
    "colab": {
      "name": "Data Science Bootcamp - Graded Datathon.ipynb",
      "provenance": [],
      "collapsed_sections": [
        "SLt20CErdyT8",
        "fKSbSGC_gCed",
        "xCu_B8ArgrKO"
      ]
    },
    "kernelspec": {
      "name": "python3",
      "display_name": "Python 3"
    },
    "language_info": {
      "name": "python"
    }
  },
  "cells": [
    {
      "cell_type": "markdown",
      "source": [
        "## Data Science Bootcamp - Graded Datathon \n",
        "# Mansi"
      ],
      "metadata": {
        "id": "C6kxP79W-3C5"
      }
    },
    {
      "cell_type": "markdown",
      "source": [
        "importing dependencies"
      ],
      "metadata": {
        "id": "KWy1cvxO_Eng"
      }
    },
    {
      "cell_type": "code",
      "execution_count": 1,
      "metadata": {
        "id": "VItM2w_C-xOz"
      },
      "outputs": [],
      "source": [
        "import numpy as np\n",
        "import pandas as pd\n",
        "import matplotlib.pyplot as plt\n",
        "import seaborn as sns\n",
        "%matplotlib inline \n",
        "import sklearn as sk\n",
        "from sklearn.model_selection import train_test_split\n",
        "from sklearn.linear_model import LogisticRegression\n",
        "from sklearn.metrics import accuracy_score\n"
      ]
    },
    {
      "cell_type": "markdown",
      "source": [
        "let's read our training dataset in pandas's dataframe"
      ],
      "metadata": {
        "id": "QEiAvpQUAswB"
      }
    },
    {
      "cell_type": "code",
      "source": [
        "\n",
        "tax_data  = pd.read_csv(\"https://raw.githubusercontent.com/dphi-official/Datasets/master/tax_payers/train_set_label.csv\" )"
      ],
      "metadata": {
        "id": "gpxezUJ__dIZ"
      },
      "execution_count": 2,
      "outputs": []
    },
    {
      "cell_type": "markdown",
      "source": [
        "now, we need to study the variables of our dataset to understand what our dataset contains. and to perform exploratory data analysis on our dataset"
      ],
      "metadata": {
        "id": "GyknAUGcBIFT"
      }
    },
    {
      "cell_type": "code",
      "source": [
        "# head() give us top 5 datapoints of our dataset .one can also give value in the parenthesis() of how many datapoint one want to see\n",
        "tax_data.head()"
      ],
      "metadata": {
        "colab": {
          "base_uri": "https://localhost:8080/",
          "height": 206
        },
        "id": "qnJbP6JBA-5F",
        "outputId": "07565b31-bb42-4614-88a5-92d5f77618f3"
      },
      "execution_count": 3,
      "outputs": [
        {
          "output_type": "execute_result",
          "data": {
            "text/plain": [
              "   Unnamed: 0     HHI    HHDL  Married  CollegGrads  AHHAge  Cars  \\\n",
              "0          61  183414  -12402        1            2      28     1   \n",
              "1         501  129786  700251        2            5      63     3   \n",
              "2         658  268343  493411        2            4      44     1   \n",
              "3         703  290506 -433408        1            1      28     5   \n",
              "4         702   90108  907135        1            3      57     5   \n",
              "\n",
              "   Filed in 2017  Filed in 2016  Filed in 2015 PoliticalParty  \n",
              "0              0              0              1       Democrat  \n",
              "1              0              0              0     Republican  \n",
              "2              1              0              1    Independent  \n",
              "3              1              0              1     Republican  \n",
              "4              1              1              0       Democrat  "
            ],
            "text/html": [
              "\n",
              "  <div id=\"df-c859c236-e5db-4e51-9079-c6bc1eba2918\">\n",
              "    <div class=\"colab-df-container\">\n",
              "      <div>\n",
              "<style scoped>\n",
              "    .dataframe tbody tr th:only-of-type {\n",
              "        vertical-align: middle;\n",
              "    }\n",
              "\n",
              "    .dataframe tbody tr th {\n",
              "        vertical-align: top;\n",
              "    }\n",
              "\n",
              "    .dataframe thead th {\n",
              "        text-align: right;\n",
              "    }\n",
              "</style>\n",
              "<table border=\"1\" class=\"dataframe\">\n",
              "  <thead>\n",
              "    <tr style=\"text-align: right;\">\n",
              "      <th></th>\n",
              "      <th>Unnamed: 0</th>\n",
              "      <th>HHI</th>\n",
              "      <th>HHDL</th>\n",
              "      <th>Married</th>\n",
              "      <th>CollegGrads</th>\n",
              "      <th>AHHAge</th>\n",
              "      <th>Cars</th>\n",
              "      <th>Filed in 2017</th>\n",
              "      <th>Filed in 2016</th>\n",
              "      <th>Filed in 2015</th>\n",
              "      <th>PoliticalParty</th>\n",
              "    </tr>\n",
              "  </thead>\n",
              "  <tbody>\n",
              "    <tr>\n",
              "      <th>0</th>\n",
              "      <td>61</td>\n",
              "      <td>183414</td>\n",
              "      <td>-12402</td>\n",
              "      <td>1</td>\n",
              "      <td>2</td>\n",
              "      <td>28</td>\n",
              "      <td>1</td>\n",
              "      <td>0</td>\n",
              "      <td>0</td>\n",
              "      <td>1</td>\n",
              "      <td>Democrat</td>\n",
              "    </tr>\n",
              "    <tr>\n",
              "      <th>1</th>\n",
              "      <td>501</td>\n",
              "      <td>129786</td>\n",
              "      <td>700251</td>\n",
              "      <td>2</td>\n",
              "      <td>5</td>\n",
              "      <td>63</td>\n",
              "      <td>3</td>\n",
              "      <td>0</td>\n",
              "      <td>0</td>\n",
              "      <td>0</td>\n",
              "      <td>Republican</td>\n",
              "    </tr>\n",
              "    <tr>\n",
              "      <th>2</th>\n",
              "      <td>658</td>\n",
              "      <td>268343</td>\n",
              "      <td>493411</td>\n",
              "      <td>2</td>\n",
              "      <td>4</td>\n",
              "      <td>44</td>\n",
              "      <td>1</td>\n",
              "      <td>1</td>\n",
              "      <td>0</td>\n",
              "      <td>1</td>\n",
              "      <td>Independent</td>\n",
              "    </tr>\n",
              "    <tr>\n",
              "      <th>3</th>\n",
              "      <td>703</td>\n",
              "      <td>290506</td>\n",
              "      <td>-433408</td>\n",
              "      <td>1</td>\n",
              "      <td>1</td>\n",
              "      <td>28</td>\n",
              "      <td>5</td>\n",
              "      <td>1</td>\n",
              "      <td>0</td>\n",
              "      <td>1</td>\n",
              "      <td>Republican</td>\n",
              "    </tr>\n",
              "    <tr>\n",
              "      <th>4</th>\n",
              "      <td>702</td>\n",
              "      <td>90108</td>\n",
              "      <td>907135</td>\n",
              "      <td>1</td>\n",
              "      <td>3</td>\n",
              "      <td>57</td>\n",
              "      <td>5</td>\n",
              "      <td>1</td>\n",
              "      <td>1</td>\n",
              "      <td>0</td>\n",
              "      <td>Democrat</td>\n",
              "    </tr>\n",
              "  </tbody>\n",
              "</table>\n",
              "</div>\n",
              "      <button class=\"colab-df-convert\" onclick=\"convertToInteractive('df-c859c236-e5db-4e51-9079-c6bc1eba2918')\"\n",
              "              title=\"Convert this dataframe to an interactive table.\"\n",
              "              style=\"display:none;\">\n",
              "        \n",
              "  <svg xmlns=\"http://www.w3.org/2000/svg\" height=\"24px\"viewBox=\"0 0 24 24\"\n",
              "       width=\"24px\">\n",
              "    <path d=\"M0 0h24v24H0V0z\" fill=\"none\"/>\n",
              "    <path d=\"M18.56 5.44l.94 2.06.94-2.06 2.06-.94-2.06-.94-.94-2.06-.94 2.06-2.06.94zm-11 1L8.5 8.5l.94-2.06 2.06-.94-2.06-.94L8.5 2.5l-.94 2.06-2.06.94zm10 10l.94 2.06.94-2.06 2.06-.94-2.06-.94-.94-2.06-.94 2.06-2.06.94z\"/><path d=\"M17.41 7.96l-1.37-1.37c-.4-.4-.92-.59-1.43-.59-.52 0-1.04.2-1.43.59L10.3 9.45l-7.72 7.72c-.78.78-.78 2.05 0 2.83L4 21.41c.39.39.9.59 1.41.59.51 0 1.02-.2 1.41-.59l7.78-7.78 2.81-2.81c.8-.78.8-2.07 0-2.86zM5.41 20L4 18.59l7.72-7.72 1.47 1.35L5.41 20z\"/>\n",
              "  </svg>\n",
              "      </button>\n",
              "      \n",
              "  <style>\n",
              "    .colab-df-container {\n",
              "      display:flex;\n",
              "      flex-wrap:wrap;\n",
              "      gap: 12px;\n",
              "    }\n",
              "\n",
              "    .colab-df-convert {\n",
              "      background-color: #E8F0FE;\n",
              "      border: none;\n",
              "      border-radius: 50%;\n",
              "      cursor: pointer;\n",
              "      display: none;\n",
              "      fill: #1967D2;\n",
              "      height: 32px;\n",
              "      padding: 0 0 0 0;\n",
              "      width: 32px;\n",
              "    }\n",
              "\n",
              "    .colab-df-convert:hover {\n",
              "      background-color: #E2EBFA;\n",
              "      box-shadow: 0px 1px 2px rgba(60, 64, 67, 0.3), 0px 1px 3px 1px rgba(60, 64, 67, 0.15);\n",
              "      fill: #174EA6;\n",
              "    }\n",
              "\n",
              "    [theme=dark] .colab-df-convert {\n",
              "      background-color: #3B4455;\n",
              "      fill: #D2E3FC;\n",
              "    }\n",
              "\n",
              "    [theme=dark] .colab-df-convert:hover {\n",
              "      background-color: #434B5C;\n",
              "      box-shadow: 0px 1px 3px 1px rgba(0, 0, 0, 0.15);\n",
              "      filter: drop-shadow(0px 1px 2px rgba(0, 0, 0, 0.3));\n",
              "      fill: #FFFFFF;\n",
              "    }\n",
              "  </style>\n",
              "\n",
              "      <script>\n",
              "        const buttonEl =\n",
              "          document.querySelector('#df-c859c236-e5db-4e51-9079-c6bc1eba2918 button.colab-df-convert');\n",
              "        buttonEl.style.display =\n",
              "          google.colab.kernel.accessAllowed ? 'block' : 'none';\n",
              "\n",
              "        async function convertToInteractive(key) {\n",
              "          const element = document.querySelector('#df-c859c236-e5db-4e51-9079-c6bc1eba2918');\n",
              "          const dataTable =\n",
              "            await google.colab.kernel.invokeFunction('convertToInteractive',\n",
              "                                                     [key], {});\n",
              "          if (!dataTable) return;\n",
              "\n",
              "          const docLinkHtml = 'Like what you see? Visit the ' +\n",
              "            '<a target=\"_blank\" href=https://colab.research.google.com/notebooks/data_table.ipynb>data table notebook</a>'\n",
              "            + ' to learn more about interactive tables.';\n",
              "          element.innerHTML = '';\n",
              "          dataTable['output_type'] = 'display_data';\n",
              "          await google.colab.output.renderOutput(dataTable, element);\n",
              "          const docLink = document.createElement('div');\n",
              "          docLink.innerHTML = docLinkHtml;\n",
              "          element.appendChild(docLink);\n",
              "        }\n",
              "      </script>\n",
              "    </div>\n",
              "  </div>\n",
              "  "
            ]
          },
          "metadata": {},
          "execution_count": 3
        }
      ]
    },
    {
      "cell_type": "code",
      "source": [
        "tax_data.tail()"
      ],
      "metadata": {
        "colab": {
          "base_uri": "https://localhost:8080/",
          "height": 206
        },
        "id": "-SGqd0q5F90q",
        "outputId": "8eb01ac9-16a4-4e06-fe21-29ab076f7b86"
      },
      "execution_count": 4,
      "outputs": [
        {
          "output_type": "execute_result",
          "data": {
            "text/plain": [
              "     Unnamed: 0     HHI    HHDL  Married  CollegGrads  AHHAge  Cars  \\\n",
              "798         476  153304  971909        0            1      99     5   \n",
              "799         657  136652 -184616        1            2      31     3   \n",
              "800         596   51066 -900262        1            1      67     4   \n",
              "801         561  123721  -51448        2            0      23     4   \n",
              "802         635  189020  839546        2            4      56     1   \n",
              "\n",
              "     Filed in 2017  Filed in 2016  Filed in 2015 PoliticalParty  \n",
              "798              1              0              0       Democrat  \n",
              "799              1              0              0       Democrat  \n",
              "800              0              0              0       Democrat  \n",
              "801              0              1              1     Republican  \n",
              "802              0              0              0     Republican  "
            ],
            "text/html": [
              "\n",
              "  <div id=\"df-a6072004-1e4a-478c-8c92-157badd073e5\">\n",
              "    <div class=\"colab-df-container\">\n",
              "      <div>\n",
              "<style scoped>\n",
              "    .dataframe tbody tr th:only-of-type {\n",
              "        vertical-align: middle;\n",
              "    }\n",
              "\n",
              "    .dataframe tbody tr th {\n",
              "        vertical-align: top;\n",
              "    }\n",
              "\n",
              "    .dataframe thead th {\n",
              "        text-align: right;\n",
              "    }\n",
              "</style>\n",
              "<table border=\"1\" class=\"dataframe\">\n",
              "  <thead>\n",
              "    <tr style=\"text-align: right;\">\n",
              "      <th></th>\n",
              "      <th>Unnamed: 0</th>\n",
              "      <th>HHI</th>\n",
              "      <th>HHDL</th>\n",
              "      <th>Married</th>\n",
              "      <th>CollegGrads</th>\n",
              "      <th>AHHAge</th>\n",
              "      <th>Cars</th>\n",
              "      <th>Filed in 2017</th>\n",
              "      <th>Filed in 2016</th>\n",
              "      <th>Filed in 2015</th>\n",
              "      <th>PoliticalParty</th>\n",
              "    </tr>\n",
              "  </thead>\n",
              "  <tbody>\n",
              "    <tr>\n",
              "      <th>798</th>\n",
              "      <td>476</td>\n",
              "      <td>153304</td>\n",
              "      <td>971909</td>\n",
              "      <td>0</td>\n",
              "      <td>1</td>\n",
              "      <td>99</td>\n",
              "      <td>5</td>\n",
              "      <td>1</td>\n",
              "      <td>0</td>\n",
              "      <td>0</td>\n",
              "      <td>Democrat</td>\n",
              "    </tr>\n",
              "    <tr>\n",
              "      <th>799</th>\n",
              "      <td>657</td>\n",
              "      <td>136652</td>\n",
              "      <td>-184616</td>\n",
              "      <td>1</td>\n",
              "      <td>2</td>\n",
              "      <td>31</td>\n",
              "      <td>3</td>\n",
              "      <td>1</td>\n",
              "      <td>0</td>\n",
              "      <td>0</td>\n",
              "      <td>Democrat</td>\n",
              "    </tr>\n",
              "    <tr>\n",
              "      <th>800</th>\n",
              "      <td>596</td>\n",
              "      <td>51066</td>\n",
              "      <td>-900262</td>\n",
              "      <td>1</td>\n",
              "      <td>1</td>\n",
              "      <td>67</td>\n",
              "      <td>4</td>\n",
              "      <td>0</td>\n",
              "      <td>0</td>\n",
              "      <td>0</td>\n",
              "      <td>Democrat</td>\n",
              "    </tr>\n",
              "    <tr>\n",
              "      <th>801</th>\n",
              "      <td>561</td>\n",
              "      <td>123721</td>\n",
              "      <td>-51448</td>\n",
              "      <td>2</td>\n",
              "      <td>0</td>\n",
              "      <td>23</td>\n",
              "      <td>4</td>\n",
              "      <td>0</td>\n",
              "      <td>1</td>\n",
              "      <td>1</td>\n",
              "      <td>Republican</td>\n",
              "    </tr>\n",
              "    <tr>\n",
              "      <th>802</th>\n",
              "      <td>635</td>\n",
              "      <td>189020</td>\n",
              "      <td>839546</td>\n",
              "      <td>2</td>\n",
              "      <td>4</td>\n",
              "      <td>56</td>\n",
              "      <td>1</td>\n",
              "      <td>0</td>\n",
              "      <td>0</td>\n",
              "      <td>0</td>\n",
              "      <td>Republican</td>\n",
              "    </tr>\n",
              "  </tbody>\n",
              "</table>\n",
              "</div>\n",
              "      <button class=\"colab-df-convert\" onclick=\"convertToInteractive('df-a6072004-1e4a-478c-8c92-157badd073e5')\"\n",
              "              title=\"Convert this dataframe to an interactive table.\"\n",
              "              style=\"display:none;\">\n",
              "        \n",
              "  <svg xmlns=\"http://www.w3.org/2000/svg\" height=\"24px\"viewBox=\"0 0 24 24\"\n",
              "       width=\"24px\">\n",
              "    <path d=\"M0 0h24v24H0V0z\" fill=\"none\"/>\n",
              "    <path d=\"M18.56 5.44l.94 2.06.94-2.06 2.06-.94-2.06-.94-.94-2.06-.94 2.06-2.06.94zm-11 1L8.5 8.5l.94-2.06 2.06-.94-2.06-.94L8.5 2.5l-.94 2.06-2.06.94zm10 10l.94 2.06.94-2.06 2.06-.94-2.06-.94-.94-2.06-.94 2.06-2.06.94z\"/><path d=\"M17.41 7.96l-1.37-1.37c-.4-.4-.92-.59-1.43-.59-.52 0-1.04.2-1.43.59L10.3 9.45l-7.72 7.72c-.78.78-.78 2.05 0 2.83L4 21.41c.39.39.9.59 1.41.59.51 0 1.02-.2 1.41-.59l7.78-7.78 2.81-2.81c.8-.78.8-2.07 0-2.86zM5.41 20L4 18.59l7.72-7.72 1.47 1.35L5.41 20z\"/>\n",
              "  </svg>\n",
              "      </button>\n",
              "      \n",
              "  <style>\n",
              "    .colab-df-container {\n",
              "      display:flex;\n",
              "      flex-wrap:wrap;\n",
              "      gap: 12px;\n",
              "    }\n",
              "\n",
              "    .colab-df-convert {\n",
              "      background-color: #E8F0FE;\n",
              "      border: none;\n",
              "      border-radius: 50%;\n",
              "      cursor: pointer;\n",
              "      display: none;\n",
              "      fill: #1967D2;\n",
              "      height: 32px;\n",
              "      padding: 0 0 0 0;\n",
              "      width: 32px;\n",
              "    }\n",
              "\n",
              "    .colab-df-convert:hover {\n",
              "      background-color: #E2EBFA;\n",
              "      box-shadow: 0px 1px 2px rgba(60, 64, 67, 0.3), 0px 1px 3px 1px rgba(60, 64, 67, 0.15);\n",
              "      fill: #174EA6;\n",
              "    }\n",
              "\n",
              "    [theme=dark] .colab-df-convert {\n",
              "      background-color: #3B4455;\n",
              "      fill: #D2E3FC;\n",
              "    }\n",
              "\n",
              "    [theme=dark] .colab-df-convert:hover {\n",
              "      background-color: #434B5C;\n",
              "      box-shadow: 0px 1px 3px 1px rgba(0, 0, 0, 0.15);\n",
              "      filter: drop-shadow(0px 1px 2px rgba(0, 0, 0, 0.3));\n",
              "      fill: #FFFFFF;\n",
              "    }\n",
              "  </style>\n",
              "\n",
              "      <script>\n",
              "        const buttonEl =\n",
              "          document.querySelector('#df-a6072004-1e4a-478c-8c92-157badd073e5 button.colab-df-convert');\n",
              "        buttonEl.style.display =\n",
              "          google.colab.kernel.accessAllowed ? 'block' : 'none';\n",
              "\n",
              "        async function convertToInteractive(key) {\n",
              "          const element = document.querySelector('#df-a6072004-1e4a-478c-8c92-157badd073e5');\n",
              "          const dataTable =\n",
              "            await google.colab.kernel.invokeFunction('convertToInteractive',\n",
              "                                                     [key], {});\n",
              "          if (!dataTable) return;\n",
              "\n",
              "          const docLinkHtml = 'Like what you see? Visit the ' +\n",
              "            '<a target=\"_blank\" href=https://colab.research.google.com/notebooks/data_table.ipynb>data table notebook</a>'\n",
              "            + ' to learn more about interactive tables.';\n",
              "          element.innerHTML = '';\n",
              "          dataTable['output_type'] = 'display_data';\n",
              "          await google.colab.output.renderOutput(dataTable, element);\n",
              "          const docLink = document.createElement('div');\n",
              "          docLink.innerHTML = docLinkHtml;\n",
              "          element.appendChild(docLink);\n",
              "        }\n",
              "      </script>\n",
              "    </div>\n",
              "  </div>\n",
              "  "
            ]
          },
          "metadata": {},
          "execution_count": 4
        }
      ]
    },
    {
      "cell_type": "markdown",
      "source": [
        " To understand our dataset we should know what a column contains in it,that's what we called as data description . only than we can do feature selection  and exploratory data analysis.\n",
        "\n",
        "# Data Description\n",
        "\n",
        "HHI: Household income (the total amount of money earned by every member of a single household)\n",
        "\n",
        "HHDL: Household debt level  (all liabilities of households (including non-profit institutions serving households) that require payments of interest or principal by households to the creditors at a fixed dates in the future)\n",
        "\n",
        "Married: There are three categories for a taxpayer 0, 1, 2 with regards to marriage. (0= single,1= married, 2= divorced)\n",
        "\n",
        "PoliticalParty: Name of the political party\n",
        "\n",
        "CollegeGrads: Grade in College out of 5\n",
        "\n",
        "AHHAge: Average household age\n",
        "\n",
        "cars: number of cars in house\n",
        "\n",
        "Filed in YYYY: Tax filed in given year YYYY"
      ],
      "metadata": {
        "id": "JP9pMx-pBn2F"
      }
    },
    {
      "cell_type": "code",
      "source": [
        "tax_data.info()\n",
        "#.info() will give us the datatype of each column and the number of non null entries and the memory used in storing them. "
      ],
      "metadata": {
        "colab": {
          "base_uri": "https://localhost:8080/"
        },
        "id": "Szkt7SQuA9M3",
        "outputId": "e5035127-2cd6-43cb-e817-33fdbb0ee136"
      },
      "execution_count": 5,
      "outputs": [
        {
          "output_type": "stream",
          "name": "stdout",
          "text": [
            "<class 'pandas.core.frame.DataFrame'>\n",
            "RangeIndex: 803 entries, 0 to 802\n",
            "Data columns (total 11 columns):\n",
            " #   Column          Non-Null Count  Dtype \n",
            "---  ------          --------------  ----- \n",
            " 0   Unnamed: 0      803 non-null    int64 \n",
            " 1   HHI             803 non-null    int64 \n",
            " 2   HHDL            803 non-null    int64 \n",
            " 3   Married         803 non-null    int64 \n",
            " 4   CollegGrads     803 non-null    int64 \n",
            " 5   AHHAge          803 non-null    int64 \n",
            " 6   Cars            803 non-null    int64 \n",
            " 7   Filed in 2017   803 non-null    int64 \n",
            " 8   Filed in 2016   803 non-null    int64 \n",
            " 9   Filed in 2015   803 non-null    int64 \n",
            " 10  PoliticalParty  803 non-null    object\n",
            "dtypes: int64(10), object(1)\n",
            "memory usage: 69.1+ KB\n"
          ]
        }
      ]
    },
    {
      "cell_type": "markdown",
      "source": [
        "we can see that we have no null entries in our dataset, which is amazing for us as now we don't have to deal with the null values."
      ],
      "metadata": {
        "id": "oAk9LbzEE6pR"
      }
    },
    {
      "cell_type": "code",
      "source": [
        "tax_data.describe()\n",
        "# describe() will give us the stastical measures of our dataset like\n",
        "#mean,standard deviation(std) , minimum, maximum and the percentiles "
      ],
      "metadata": {
        "colab": {
          "base_uri": "https://localhost:8080/",
          "height": 300
        },
        "id": "rR249DgoETfM",
        "outputId": "f4c16ebb-8fab-412a-b0c3-e4176b3843d9"
      },
      "execution_count": 6,
      "outputs": [
        {
          "output_type": "execute_result",
          "data": {
            "text/plain": [
              "        Unnamed: 0            HHI           HHDL     Married  CollegGrads  \\\n",
              "count   803.000000     803.000000     803.000000  803.000000   803.000000   \n",
              "mean    502.241594  155402.688667  -15351.252802    0.971357     2.607721   \n",
              "std     288.460068   86788.153213  595184.302049    0.803935     1.675492   \n",
              "min       1.000000     185.000000 -999994.000000    0.000000     0.000000   \n",
              "25%     254.500000   82373.000000 -516765.000000    0.000000     1.000000   \n",
              "50%     501.000000  156542.000000  -24440.000000    1.000000     3.000000   \n",
              "75%     754.500000  230772.000000  518135.500000    2.000000     4.000000   \n",
              "max    1004.000000  299374.000000  999628.000000    2.000000     5.000000   \n",
              "\n",
              "           AHHAge        Cars  Filed in 2017  Filed in 2016  Filed in 2015  \n",
              "count  803.000000  803.000000     803.000000     803.000000     803.000000  \n",
              "mean    60.559153    2.435866       0.506849       0.509340       0.516812  \n",
              "std     25.071219    1.703542       0.500265       0.500224       0.500029  \n",
              "min     18.000000    0.000000       0.000000       0.000000       0.000000  \n",
              "25%     38.000000    1.000000       0.000000       0.000000       0.000000  \n",
              "50%     60.000000    2.000000       1.000000       1.000000       1.000000  \n",
              "75%     82.000000    4.000000       1.000000       1.000000       1.000000  \n",
              "max    105.000000    5.000000       1.000000       1.000000       1.000000  "
            ],
            "text/html": [
              "\n",
              "  <div id=\"df-a88af013-d916-4870-b358-53ef6eb8fdd6\">\n",
              "    <div class=\"colab-df-container\">\n",
              "      <div>\n",
              "<style scoped>\n",
              "    .dataframe tbody tr th:only-of-type {\n",
              "        vertical-align: middle;\n",
              "    }\n",
              "\n",
              "    .dataframe tbody tr th {\n",
              "        vertical-align: top;\n",
              "    }\n",
              "\n",
              "    .dataframe thead th {\n",
              "        text-align: right;\n",
              "    }\n",
              "</style>\n",
              "<table border=\"1\" class=\"dataframe\">\n",
              "  <thead>\n",
              "    <tr style=\"text-align: right;\">\n",
              "      <th></th>\n",
              "      <th>Unnamed: 0</th>\n",
              "      <th>HHI</th>\n",
              "      <th>HHDL</th>\n",
              "      <th>Married</th>\n",
              "      <th>CollegGrads</th>\n",
              "      <th>AHHAge</th>\n",
              "      <th>Cars</th>\n",
              "      <th>Filed in 2017</th>\n",
              "      <th>Filed in 2016</th>\n",
              "      <th>Filed in 2015</th>\n",
              "    </tr>\n",
              "  </thead>\n",
              "  <tbody>\n",
              "    <tr>\n",
              "      <th>count</th>\n",
              "      <td>803.000000</td>\n",
              "      <td>803.000000</td>\n",
              "      <td>803.000000</td>\n",
              "      <td>803.000000</td>\n",
              "      <td>803.000000</td>\n",
              "      <td>803.000000</td>\n",
              "      <td>803.000000</td>\n",
              "      <td>803.000000</td>\n",
              "      <td>803.000000</td>\n",
              "      <td>803.000000</td>\n",
              "    </tr>\n",
              "    <tr>\n",
              "      <th>mean</th>\n",
              "      <td>502.241594</td>\n",
              "      <td>155402.688667</td>\n",
              "      <td>-15351.252802</td>\n",
              "      <td>0.971357</td>\n",
              "      <td>2.607721</td>\n",
              "      <td>60.559153</td>\n",
              "      <td>2.435866</td>\n",
              "      <td>0.506849</td>\n",
              "      <td>0.509340</td>\n",
              "      <td>0.516812</td>\n",
              "    </tr>\n",
              "    <tr>\n",
              "      <th>std</th>\n",
              "      <td>288.460068</td>\n",
              "      <td>86788.153213</td>\n",
              "      <td>595184.302049</td>\n",
              "      <td>0.803935</td>\n",
              "      <td>1.675492</td>\n",
              "      <td>25.071219</td>\n",
              "      <td>1.703542</td>\n",
              "      <td>0.500265</td>\n",
              "      <td>0.500224</td>\n",
              "      <td>0.500029</td>\n",
              "    </tr>\n",
              "    <tr>\n",
              "      <th>min</th>\n",
              "      <td>1.000000</td>\n",
              "      <td>185.000000</td>\n",
              "      <td>-999994.000000</td>\n",
              "      <td>0.000000</td>\n",
              "      <td>0.000000</td>\n",
              "      <td>18.000000</td>\n",
              "      <td>0.000000</td>\n",
              "      <td>0.000000</td>\n",
              "      <td>0.000000</td>\n",
              "      <td>0.000000</td>\n",
              "    </tr>\n",
              "    <tr>\n",
              "      <th>25%</th>\n",
              "      <td>254.500000</td>\n",
              "      <td>82373.000000</td>\n",
              "      <td>-516765.000000</td>\n",
              "      <td>0.000000</td>\n",
              "      <td>1.000000</td>\n",
              "      <td>38.000000</td>\n",
              "      <td>1.000000</td>\n",
              "      <td>0.000000</td>\n",
              "      <td>0.000000</td>\n",
              "      <td>0.000000</td>\n",
              "    </tr>\n",
              "    <tr>\n",
              "      <th>50%</th>\n",
              "      <td>501.000000</td>\n",
              "      <td>156542.000000</td>\n",
              "      <td>-24440.000000</td>\n",
              "      <td>1.000000</td>\n",
              "      <td>3.000000</td>\n",
              "      <td>60.000000</td>\n",
              "      <td>2.000000</td>\n",
              "      <td>1.000000</td>\n",
              "      <td>1.000000</td>\n",
              "      <td>1.000000</td>\n",
              "    </tr>\n",
              "    <tr>\n",
              "      <th>75%</th>\n",
              "      <td>754.500000</td>\n",
              "      <td>230772.000000</td>\n",
              "      <td>518135.500000</td>\n",
              "      <td>2.000000</td>\n",
              "      <td>4.000000</td>\n",
              "      <td>82.000000</td>\n",
              "      <td>4.000000</td>\n",
              "      <td>1.000000</td>\n",
              "      <td>1.000000</td>\n",
              "      <td>1.000000</td>\n",
              "    </tr>\n",
              "    <tr>\n",
              "      <th>max</th>\n",
              "      <td>1004.000000</td>\n",
              "      <td>299374.000000</td>\n",
              "      <td>999628.000000</td>\n",
              "      <td>2.000000</td>\n",
              "      <td>5.000000</td>\n",
              "      <td>105.000000</td>\n",
              "      <td>5.000000</td>\n",
              "      <td>1.000000</td>\n",
              "      <td>1.000000</td>\n",
              "      <td>1.000000</td>\n",
              "    </tr>\n",
              "  </tbody>\n",
              "</table>\n",
              "</div>\n",
              "      <button class=\"colab-df-convert\" onclick=\"convertToInteractive('df-a88af013-d916-4870-b358-53ef6eb8fdd6')\"\n",
              "              title=\"Convert this dataframe to an interactive table.\"\n",
              "              style=\"display:none;\">\n",
              "        \n",
              "  <svg xmlns=\"http://www.w3.org/2000/svg\" height=\"24px\"viewBox=\"0 0 24 24\"\n",
              "       width=\"24px\">\n",
              "    <path d=\"M0 0h24v24H0V0z\" fill=\"none\"/>\n",
              "    <path d=\"M18.56 5.44l.94 2.06.94-2.06 2.06-.94-2.06-.94-.94-2.06-.94 2.06-2.06.94zm-11 1L8.5 8.5l.94-2.06 2.06-.94-2.06-.94L8.5 2.5l-.94 2.06-2.06.94zm10 10l.94 2.06.94-2.06 2.06-.94-2.06-.94-.94-2.06-.94 2.06-2.06.94z\"/><path d=\"M17.41 7.96l-1.37-1.37c-.4-.4-.92-.59-1.43-.59-.52 0-1.04.2-1.43.59L10.3 9.45l-7.72 7.72c-.78.78-.78 2.05 0 2.83L4 21.41c.39.39.9.59 1.41.59.51 0 1.02-.2 1.41-.59l7.78-7.78 2.81-2.81c.8-.78.8-2.07 0-2.86zM5.41 20L4 18.59l7.72-7.72 1.47 1.35L5.41 20z\"/>\n",
              "  </svg>\n",
              "      </button>\n",
              "      \n",
              "  <style>\n",
              "    .colab-df-container {\n",
              "      display:flex;\n",
              "      flex-wrap:wrap;\n",
              "      gap: 12px;\n",
              "    }\n",
              "\n",
              "    .colab-df-convert {\n",
              "      background-color: #E8F0FE;\n",
              "      border: none;\n",
              "      border-radius: 50%;\n",
              "      cursor: pointer;\n",
              "      display: none;\n",
              "      fill: #1967D2;\n",
              "      height: 32px;\n",
              "      padding: 0 0 0 0;\n",
              "      width: 32px;\n",
              "    }\n",
              "\n",
              "    .colab-df-convert:hover {\n",
              "      background-color: #E2EBFA;\n",
              "      box-shadow: 0px 1px 2px rgba(60, 64, 67, 0.3), 0px 1px 3px 1px rgba(60, 64, 67, 0.15);\n",
              "      fill: #174EA6;\n",
              "    }\n",
              "\n",
              "    [theme=dark] .colab-df-convert {\n",
              "      background-color: #3B4455;\n",
              "      fill: #D2E3FC;\n",
              "    }\n",
              "\n",
              "    [theme=dark] .colab-df-convert:hover {\n",
              "      background-color: #434B5C;\n",
              "      box-shadow: 0px 1px 3px 1px rgba(0, 0, 0, 0.15);\n",
              "      filter: drop-shadow(0px 1px 2px rgba(0, 0, 0, 0.3));\n",
              "      fill: #FFFFFF;\n",
              "    }\n",
              "  </style>\n",
              "\n",
              "      <script>\n",
              "        const buttonEl =\n",
              "          document.querySelector('#df-a88af013-d916-4870-b358-53ef6eb8fdd6 button.colab-df-convert');\n",
              "        buttonEl.style.display =\n",
              "          google.colab.kernel.accessAllowed ? 'block' : 'none';\n",
              "\n",
              "        async function convertToInteractive(key) {\n",
              "          const element = document.querySelector('#df-a88af013-d916-4870-b358-53ef6eb8fdd6');\n",
              "          const dataTable =\n",
              "            await google.colab.kernel.invokeFunction('convertToInteractive',\n",
              "                                                     [key], {});\n",
              "          if (!dataTable) return;\n",
              "\n",
              "          const docLinkHtml = 'Like what you see? Visit the ' +\n",
              "            '<a target=\"_blank\" href=https://colab.research.google.com/notebooks/data_table.ipynb>data table notebook</a>'\n",
              "            + ' to learn more about interactive tables.';\n",
              "          element.innerHTML = '';\n",
              "          dataTable['output_type'] = 'display_data';\n",
              "          await google.colab.output.renderOutput(dataTable, element);\n",
              "          const docLink = document.createElement('div');\n",
              "          docLink.innerHTML = docLinkHtml;\n",
              "          element.appendChild(docLink);\n",
              "        }\n",
              "      </script>\n",
              "    </div>\n",
              "  </div>\n",
              "  "
            ]
          },
          "metadata": {},
          "execution_count": 6
        }
      ]
    },
    {
      "cell_type": "markdown",
      "source": [
        "so, we have no null values in our dataset. our next move should be finding outliers in our dataset. one can get the idea of this by looking at the stastical measures from above output because outliers effect mean the most . we can have a look at the max and mean value and then at the mean .\n",
        "we can plot boxplot to check the outliers "
      ],
      "metadata": {
        "id": "mJAOumdrMLb9"
      }
    },
    {
      "cell_type": "code",
      "source": [
        "\n",
        "ax = sns.boxplot(x=tax_data[\"HHDL\"])"
      ],
      "metadata": {
        "colab": {
          "base_uri": "https://localhost:8080/",
          "height": 279
        },
        "id": "9LBFO1cwL0bC",
        "outputId": "7e40941a-ba2e-40a2-d36c-555f058986bc"
      },
      "execution_count": 7,
      "outputs": [
        {
          "output_type": "display_data",
          "data": {
            "text/plain": [
              "<Figure size 432x288 with 1 Axes>"
            ],
            "image/png": "[encoded data removed]"
          },
          "metadata": {
            "needs_background": "light"
          }
        }
      ]
    },
    {
      "cell_type": "markdown",
      "source": [
        "so, we have no outliers in the column HHDL"
      ],
      "metadata": {
        "id": "ombVmVZDMwpN"
      }
    },
    {
      "cell_type": "code",
      "source": [
        "ax = sns.boxplot(x=tax_data[\"HHI\"])"
      ],
      "metadata": {
        "colab": {
          "base_uri": "https://localhost:8080/",
          "height": 279
        },
        "id": "1H9dswSlM3Ik",
        "outputId": "a446da99-9e1b-43b5-d998-42c011651cdc"
      },
      "execution_count": 8,
      "outputs": [
        {
          "output_type": "display_data",
          "data": {
            "text/plain": [
              "<Figure size 432x288 with 1 Axes>"
            ],
            "image/png": "[encoded data removed]"
          },
          "metadata": {
            "needs_background": "light"
          }
        }
      ]
    },
    {
      "cell_type": "markdown",
      "source": [
        "after plotting some box plots and having a look at the stastical measures we can tell that we have no outliers in our dataset.\n",
        "now, our next step should be feature selection.\n"
      ],
      "metadata": {
        "id": "Mec3EcZJNSCT"
      }
    },
    {
      "cell_type": "code",
      "source": [
        "correlation= tax_data.corr()"
      ],
      "metadata": {
        "id": "_LMpz9iOFSwj"
      },
      "execution_count": 9,
      "outputs": []
    },
    {
      "cell_type": "code",
      "source": [
        "print(correlation)"
      ],
      "metadata": {
        "colab": {
          "base_uri": "https://localhost:8080/"
        },
        "id": "V7_ppnz1G3Kx",
        "outputId": "6d6c5a48-773b-459e-963e-e0199e8a307d"
      },
      "execution_count": 10,
      "outputs": [
        {
          "output_type": "stream",
          "name": "stdout",
          "text": [
            "               Unnamed: 0       HHI      HHDL   Married  CollegGrads  \\\n",
            "Unnamed: 0       1.000000 -0.044713  0.042304  0.000487     0.045215   \n",
            "HHI             -0.044713  1.000000 -0.013745 -0.007374    -0.029947   \n",
            "HHDL             0.042304 -0.013745  1.000000 -0.039531     0.015394   \n",
            "Married          0.000487 -0.007374 -0.039531  1.000000    -0.012980   \n",
            "CollegGrads      0.045215 -0.029947  0.015394 -0.012980     1.000000   \n",
            "AHHAge           0.047690  0.029051  0.051930  0.029995     0.036692   \n",
            "Cars             0.041287  0.025449  0.016308 -0.020007    -0.000744   \n",
            "Filed in 2017    0.055262  0.061525  0.035499 -0.056867    -0.046625   \n",
            "Filed in 2016    0.012946  0.040308  0.022683  0.054926     0.034875   \n",
            "Filed in 2015   -0.017110  0.027026  0.029971 -0.028267     0.032438   \n",
            "\n",
            "                 AHHAge      Cars  Filed in 2017  Filed in 2016  Filed in 2015  \n",
            "Unnamed: 0     0.047690  0.041287       0.055262       0.012946      -0.017110  \n",
            "HHI            0.029051  0.025449       0.061525       0.040308       0.027026  \n",
            "HHDL           0.051930  0.016308       0.035499       0.022683       0.029971  \n",
            "Married        0.029995 -0.020007      -0.056867       0.054926      -0.028267  \n",
            "CollegGrads    0.036692 -0.000744      -0.046625       0.034875       0.032438  \n",
            "AHHAge         1.000000  0.069374       0.014954      -0.006631       0.016506  \n",
            "Cars           0.069374  1.000000      -0.009360       0.063988       0.036764  \n",
            "Filed in 2017  0.014954 -0.009360       1.000000      -0.086207       0.008262  \n",
            "Filed in 2016 -0.006631  0.063988      -0.086207       1.000000      -0.051725  \n",
            "Filed in 2015  0.016506  0.036764       0.008262      -0.051725       1.000000  \n"
          ]
        }
      ]
    },
    {
      "cell_type": "code",
      "source": [
        "ax = sns.heatmap(\n",
        "    correlation, \n",
        "    vmin=-1, vmax=1, center=0,\n",
        "    cmap=sns.diverging_palette(20, 220, n=200),\n",
        "    square=True\n",
        ")\n",
        "ax.set_xticklabels(\n",
        "    ax.get_xticklabels(),\n",
        "    rotation=45,\n",
        "    horizontalalignment='right'\n",
        ");"
      ],
      "metadata": {
        "colab": {
          "base_uri": "https://localhost:8080/",
          "height": 312
        },
        "id": "Lo2dX-NVIh9q",
        "outputId": "4777f7b1-7225-4f48-a6fe-ccfef936e6b5"
      },
      "execution_count": 11,
      "outputs": [
        {
          "output_type": "display_data",
          "data": {
            "text/plain": [
              "<Figure size 432x288 with 2 Axes>"
            ],
            "image/png": "[encoded data removed]"
          },
          "metadata": {
            "needs_background": "light"
          }
        }
      ]
    },
    {
      "cell_type": "markdown",
      "source": [
        "one thing which i can see from this heatmap is that we have no negative correlation or super positive correlation with any of the variables .basically stastical correlation. it doesn't mean that label is not dependent on the variables."
      ],
      "metadata": {
        "id": "djdHJY_dWcqV"
      }
    },
    {
      "cell_type": "markdown",
      "source": [
        "# let's separate our labels and the target"
      ],
      "metadata": {
        "id": "iA3NKofSXz9n"
      }
    },
    {
      "cell_type": "code",
      "source": [
        "\n",
        "x=tax_data.drop(['Unnamed: 0', 'PoliticalParty'], axis = 1)\n",
        "  "
      ],
      "metadata": {
        "id": "PlMTHJbiOY6G"
      },
      "execution_count": 12,
      "outputs": []
    },
    {
      "cell_type": "code",
      "source": [
        "print(x)"
      ],
      "metadata": {
        "colab": {
          "base_uri": "https://localhost:8080/"
        },
        "id": "kjoClr6PYkbl",
        "outputId": "eb865d68-4870-45f3-a191-ef8647992024"
      },
      "execution_count": 13,
      "outputs": [
        {
          "output_type": "stream",
          "name": "stdout",
          "text": [
            "        HHI    HHDL  Married  CollegGrads  AHHAge  Cars  Filed in 2017  \\\n",
            "0    183414  -12402        1            2      28     1              0   \n",
            "1    129786  700251        2            5      63     3              0   \n",
            "2    268343  493411        2            4      44     1              1   \n",
            "3    290506 -433408        1            1      28     5              1   \n",
            "4     90108  907135        1            3      57     5              1   \n",
            "..      ...     ...      ...          ...     ...   ...            ...   \n",
            "798  153304  971909        0            1      99     5              1   \n",
            "799  136652 -184616        1            2      31     3              1   \n",
            "800   51066 -900262        1            1      67     4              0   \n",
            "801  123721  -51448        2            0      23     4              0   \n",
            "802  189020  839546        2            4      56     1              0   \n",
            "\n",
            "     Filed in 2016  Filed in 2015  \n",
            "0                0              1  \n",
            "1                0              0  \n",
            "2                0              1  \n",
            "3                0              1  \n",
            "4                1              0  \n",
            "..             ...            ...  \n",
            "798              0              0  \n",
            "799              0              0  \n",
            "800              0              0  \n",
            "801              1              1  \n",
            "802              0              0  \n",
            "\n",
            "[803 rows x 9 columns]\n"
          ]
        }
      ]
    },
    {
      "cell_type": "code",
      "source": [
        "y=tax_data[[ 'PoliticalParty']].copy()\n"
      ],
      "metadata": {
        "id": "8yGRr_DAcThu"
      },
      "execution_count": 14,
      "outputs": []
    },
    {
      "cell_type": "code",
      "source": [
        "print(y)"
      ],
      "metadata": {
        "colab": {
          "base_uri": "https://localhost:8080/"
        },
        "id": "9Hl6xuH9cn9v",
        "outputId": "45e4554f-6ebe-4eb1-abaa-f5ba518e780d"
      },
      "execution_count": 15,
      "outputs": [
        {
          "output_type": "stream",
          "name": "stdout",
          "text": [
            "    PoliticalParty\n",
            "0         Democrat\n",
            "1       Republican\n",
            "2      Independent\n",
            "3       Republican\n",
            "4         Democrat\n",
            "..             ...\n",
            "798       Democrat\n",
            "799       Democrat\n",
            "800       Democrat\n",
            "801     Republican\n",
            "802     Republican\n",
            "\n",
            "[803 rows x 1 columns]\n"
          ]
        }
      ]
    },
    {
      "cell_type": "markdown",
      "source": [
        "## splitting our dataset into training and text data"
      ],
      "metadata": {
        "id": "yerEiWl2daVe"
      }
    },
    {
      "cell_type": "code",
      "source": [
        "x_train, x_test, y_train, y_test=train_test_split(x,y,test_size=0.2,stratify=y,random_state=2)"
      ],
      "metadata": {
        "id": "Ect-MphgdTyc"
      },
      "execution_count": 16,
      "outputs": []
    },
    {
      "cell_type": "markdown",
      "source": [
        "## training the linear regression model"
      ],
      "metadata": {
        "id": "zdtyOhcKdnbm"
      }
    },
    {
      "cell_type": "code",
      "source": [
        "model=LogisticRegression()"
      ],
      "metadata": {
        "id": "AqDHvaN4dh2C"
      },
      "execution_count": 17,
      "outputs": []
    },
    {
      "cell_type": "code",
      "source": [
        "model.fit(x_train,y_train)"
      ],
      "metadata": {
        "colab": {
          "base_uri": "https://localhost:8080/"
        },
        "id": "1la6g-cCdq3Y",
        "outputId": "41f26d1c-eea7-4081-c1d9-8e3701a5a643"
      },
      "execution_count": 18,
      "outputs": [
        {
          "output_type": "stream",
          "name": "stderr",
          "text": [
            "/usr/local/lib/python3.7/dist-packages/sklearn/utils/validation.py:993: DataConversionWarning: A column-vector y was passed when a 1d array was expected. Please change the shape of y to (n_samples, ), for example using ravel().\n",
            "  y = column_or_1d(y, warn=True)\n"
          ]
        },
        {
          "output_type": "execute_result",
          "data": {
            "text/plain": [
              "LogisticRegression()"
            ]
          },
          "metadata": {},
          "execution_count": 18
        }
      ]
    },
    {
      "cell_type": "markdown",
      "source": [
        "## evaluation of our model"
      ],
      "metadata": {
        "id": "SLt20CErdyT8"
      }
    },
    {
      "cell_type": "code",
      "source": [
        "x_train_prediction=model.predict(x_train)\n",
        "training_data_accuracy=accuracy_score(x_train_prediction,y_train)"
      ],
      "metadata": {
        "id": "Ll6YZ99YdtQR"
      },
      "execution_count": 19,
      "outputs": []
    },
    {
      "cell_type": "code",
      "source": [
        "print(\"accuracy score of traing data:\",training_data_accuracy)\n"
      ],
      "metadata": {
        "colab": {
          "base_uri": "https://localhost:8080/"
        },
        "id": "2XX_kR6cd4uW",
        "outputId": "7ba23d99-560b-4ebe-a5cd-fb6684978973"
      },
      "execution_count": 20,
      "outputs": [
        {
          "output_type": "stream",
          "name": "stdout",
          "text": [
            "accuracy score of traing data: 0.35046728971962615\n"
          ]
        }
      ]
    },
    {
      "cell_type": "markdown",
      "source": [
        "so, we have a very low accuracy score for our linear regression model"
      ],
      "metadata": {
        "id": "U0Uz7nngeICA"
      }
    },
    {
      "cell_type": "markdown",
      "source": [
        "# training decision tree model"
      ],
      "metadata": {
        "id": "JPvDTACxfxwn"
      }
    },
    {
      "cell_type": "code",
      "source": [
        "#from sklearn import tree"
      ],
      "metadata": {
        "id": "H4h-BwdoeMsK"
      },
      "execution_count": 21,
      "outputs": []
    },
    {
      "cell_type": "code",
      "source": [
        "#model = tree.DecisionTreeClassifier()"
      ],
      "metadata": {
        "id": "px0m_H_2eXku"
      },
      "execution_count": 22,
      "outputs": []
    },
    {
      "cell_type": "code",
      "source": [
        "#model.fit(x_train, y_train)"
      ],
      "metadata": {
        "id": "_CY8CxsAeceF"
      },
      "execution_count": 23,
      "outputs": []
    },
    {
      "cell_type": "markdown",
      "source": [
        "let's check accuracy score of decision tree model"
      ],
      "metadata": {
        "id": "B2yliwJseuaU"
      }
    },
    {
      "cell_type": "code",
      "source": [
        "#x_train_prediction=model.predict(x_train)\n",
        "training_data_accuracy=accuracy_score(x_train_prediction,y_train)"
      ],
      "metadata": {
        "id": "z7bUMuNFeruC"
      },
      "execution_count": 24,
      "outputs": []
    },
    {
      "cell_type": "code",
      "source": [
        "#print(\"accuracy score of traing data:\",training_data_accuracy)\n"
      ],
      "metadata": {
        "id": "udUWbFLse0wV"
      },
      "execution_count": 25,
      "outputs": []
    },
    {
      "cell_type": "markdown",
      "source": [
        "i can see that it is over fitted. but let's check it on testing data also"
      ],
      "metadata": {
        "id": "EfuK1EtsfKRe"
      }
    },
    {
      "cell_type": "code",
      "source": [
        "#x_test_prediction=model.predict(x_test)\n",
        "#testing_data_accuracy=accuracy_score(x_test_prediction, y_test)\n"
      ],
      "metadata": {
        "id": "Ub5uw-HAe_6H"
      },
      "execution_count": 26,
      "outputs": []
    },
    {
      "cell_type": "code",
      "source": [
        "#print(\"accuracy score of testing data:\",testing_data_accuracy)"
      ],
      "metadata": {
        "id": "VaILNSwJfSH2"
      },
      "execution_count": 27,
      "outputs": []
    },
    {
      "cell_type": "markdown",
      "source": [
        "**so , we can see that our model is over fitted**"
      ],
      "metadata": {
        "id": "BWb9cQH-fZlu"
      }
    },
    {
      "cell_type": "markdown",
      "source": [
        "## training SVM model"
      ],
      "metadata": {
        "id": "fKSbSGC_gCed"
      }
    },
    {
      "cell_type": "code",
      "source": [
        "#from sklearn import svm"
      ],
      "metadata": {
        "id": "R1IKrvhgfWH2"
      },
      "execution_count": 28,
      "outputs": []
    },
    {
      "cell_type": "code",
      "source": [
        "#model= svm.SVC()"
      ],
      "metadata": {
        "id": "zUmMHsSVgF6W"
      },
      "execution_count": 29,
      "outputs": []
    },
    {
      "cell_type": "code",
      "source": [
        "#model.fit(x_train, y_train)"
      ],
      "metadata": {
        "id": "ZjwPsJMdgKMT"
      },
      "execution_count": 30,
      "outputs": []
    },
    {
      "cell_type": "markdown",
      "source": [
        "now, lets check accuracy score of SVM model"
      ],
      "metadata": {
        "id": "SI0qP00LgTyD"
      }
    },
    {
      "cell_type": "code",
      "source": [
        "#x_train_prediction=model.predict(x_train)\n",
        "training_data_accuracy=accuracy_score(x_train_prediction,y_train)"
      ],
      "metadata": {
        "id": "xZXw0kxhgWoo"
      },
      "execution_count": 31,
      "outputs": []
    },
    {
      "cell_type": "code",
      "source": [
        "#print(\"accuracy score of trainig data:\",training_data_accuracy)"
      ],
      "metadata": {
        "id": "aG2Fh4-XgaHs"
      },
      "execution_count": 32,
      "outputs": []
    },
    {
      "cell_type": "code",
      "source": [
        ""
      ],
      "metadata": {
        "id": "yW3-iRlestNR"
      },
      "execution_count": 32,
      "outputs": []
    },
    {
      "cell_type": "markdown",
      "source": [
        "## making prediction system"
      ],
      "metadata": {
        "id": "4hCAMo6zst7v"
      }
    },
    {
      "cell_type": "code",
      "source": [
        "test_data = pd.read_csv('https://raw.githubusercontent.com/dphi-official/Datasets/master/tax_payers/test_set_label.csv')"
      ],
      "metadata": {
        "id": "uyT26IHBqPT1"
      },
      "execution_count": 33,
      "outputs": []
    },
    {
      "cell_type": "code",
      "source": [
        "test_data.head()"
      ],
      "metadata": {
        "colab": {
          "base_uri": "https://localhost:8080/",
          "height": 206
        },
        "id": "Yz9x_HdDqYJc",
        "outputId": "e670079d-7c08-4086-c33b-121a8fa60e7c"
      },
      "execution_count": 34,
      "outputs": [
        {
          "output_type": "execute_result",
          "data": {
            "text/plain": [
              "   Unnamed: 0     HHI    HHDL  Married  CollegGrads  AHHAge  Cars  \\\n",
              "0          17  253274 -633752        2            1      94     3   \n",
              "1         590   47107  322850        0            1      30     2   \n",
              "2         224  111874  300583        0            2      46     3   \n",
              "3         960   96670  107419        0            3      77     5   \n",
              "4          57  128669  341273        0            0      92     4   \n",
              "\n",
              "   Filed in 2017  Filed in 2016  Filed in 2015  \n",
              "0              0              1              1  \n",
              "1              1              1              0  \n",
              "2              0              1              1  \n",
              "3              0              0              0  \n",
              "4              1              1              1  "
            ],
            "text/html": [
              "\n",
              "  <div id=\"df-64ac922a-e9a8-4a97-94f9-b4820edd4d5d\">\n",
              "    <div class=\"colab-df-container\">\n",
              "      <div>\n",
              "<style scoped>\n",
              "    .dataframe tbody tr th:only-of-type {\n",
              "        vertical-align: middle;\n",
              "    }\n",
              "\n",
              "    .dataframe tbody tr th {\n",
              "        vertical-align: top;\n",
              "    }\n",
              "\n",
              "    .dataframe thead th {\n",
              "        text-align: right;\n",
              "    }\n",
              "</style>\n",
              "<table border=\"1\" class=\"dataframe\">\n",
              "  <thead>\n",
              "    <tr style=\"text-align: right;\">\n",
              "      <th></th>\n",
              "      <th>Unnamed: 0</th>\n",
              "      <th>HHI</th>\n",
              "      <th>HHDL</th>\n",
              "      <th>Married</th>\n",
              "      <th>CollegGrads</th>\n",
              "      <th>AHHAge</th>\n",
              "      <th>Cars</th>\n",
              "      <th>Filed in 2017</th>\n",
              "      <th>Filed in 2016</th>\n",
              "      <th>Filed in 2015</th>\n",
              "    </tr>\n",
              "  </thead>\n",
              "  <tbody>\n",
              "    <tr>\n",
              "      <th>0</th>\n",
              "      <td>17</td>\n",
              "      <td>253274</td>\n",
              "      <td>-633752</td>\n",
              "      <td>2</td>\n",
              "      <td>1</td>\n",
              "      <td>94</td>\n",
              "      <td>3</td>\n",
              "      <td>0</td>\n",
              "      <td>1</td>\n",
              "      <td>1</td>\n",
              "    </tr>\n",
              "    <tr>\n",
              "      <th>1</th>\n",
              "      <td>590</td>\n",
              "      <td>47107</td>\n",
              "      <td>322850</td>\n",
              "      <td>0</td>\n",
              "      <td>1</td>\n",
              "      <td>30</td>\n",
              "      <td>2</td>\n",
              "      <td>1</td>\n",
              "      <td>1</td>\n",
              "      <td>0</td>\n",
              "    </tr>\n",
              "    <tr>\n",
              "      <th>2</th>\n",
              "      <td>224</td>\n",
              "      <td>111874</td>\n",
              "      <td>300583</td>\n",
              "      <td>0</td>\n",
              "      <td>2</td>\n",
              "      <td>46</td>\n",
              "      <td>3</td>\n",
              "      <td>0</td>\n",
              "      <td>1</td>\n",
              "      <td>1</td>\n",
              "    </tr>\n",
              "    <tr>\n",
              "      <th>3</th>\n",
              "      <td>960</td>\n",
              "      <td>96670</td>\n",
              "      <td>107419</td>\n",
              "      <td>0</td>\n",
              "      <td>3</td>\n",
              "      <td>77</td>\n",
              "      <td>5</td>\n",
              "      <td>0</td>\n",
              "      <td>0</td>\n",
              "      <td>0</td>\n",
              "    </tr>\n",
              "    <tr>\n",
              "      <th>4</th>\n",
              "      <td>57</td>\n",
              "      <td>128669</td>\n",
              "      <td>341273</td>\n",
              "      <td>0</td>\n",
              "      <td>0</td>\n",
              "      <td>92</td>\n",
              "      <td>4</td>\n",
              "      <td>1</td>\n",
              "      <td>1</td>\n",
              "      <td>1</td>\n",
              "    </tr>\n",
              "  </tbody>\n",
              "</table>\n",
              "</div>\n",
              "      <button class=\"colab-df-convert\" onclick=\"convertToInteractive('df-64ac922a-e9a8-4a97-94f9-b4820edd4d5d')\"\n",
              "              title=\"Convert this dataframe to an interactive table.\"\n",
              "              style=\"display:none;\">\n",
              "        \n",
              "  <svg xmlns=\"http://www.w3.org/2000/svg\" height=\"24px\"viewBox=\"0 0 24 24\"\n",
              "       width=\"24px\">\n",
              "    <path d=\"M0 0h24v24H0V0z\" fill=\"none\"/>\n",
              "    <path d=\"M18.56 5.44l.94 2.06.94-2.06 2.06-.94-2.06-.94-.94-2.06-.94 2.06-2.06.94zm-11 1L8.5 8.5l.94-2.06 2.06-.94-2.06-.94L8.5 2.5l-.94 2.06-2.06.94zm10 10l.94 2.06.94-2.06 2.06-.94-2.06-.94-.94-2.06-.94 2.06-2.06.94z\"/><path d=\"M17.41 7.96l-1.37-1.37c-.4-.4-.92-.59-1.43-.59-.52 0-1.04.2-1.43.59L10.3 9.45l-7.72 7.72c-.78.78-.78 2.05 0 2.83L4 21.41c.39.39.9.59 1.41.59.51 0 1.02-.2 1.41-.59l7.78-7.78 2.81-2.81c.8-.78.8-2.07 0-2.86zM5.41 20L4 18.59l7.72-7.72 1.47 1.35L5.41 20z\"/>\n",
              "  </svg>\n",
              "      </button>\n",
              "      \n",
              "  <style>\n",
              "    .colab-df-container {\n",
              "      display:flex;\n",
              "      flex-wrap:wrap;\n",
              "      gap: 12px;\n",
              "    }\n",
              "\n",
              "    .colab-df-convert {\n",
              "      background-color: #E8F0FE;\n",
              "      border: none;\n",
              "      border-radius: 50%;\n",
              "      cursor: pointer;\n",
              "      display: none;\n",
              "      fill: #1967D2;\n",
              "      height: 32px;\n",
              "      padding: 0 0 0 0;\n",
              "      width: 32px;\n",
              "    }\n",
              "\n",
              "    .colab-df-convert:hover {\n",
              "      background-color: #E2EBFA;\n",
              "      box-shadow: 0px 1px 2px rgba(60, 64, 67, 0.3), 0px 1px 3px 1px rgba(60, 64, 67, 0.15);\n",
              "      fill: #174EA6;\n",
              "    }\n",
              "\n",
              "    [theme=dark] .colab-df-convert {\n",
              "      background-color: #3B4455;\n",
              "      fill: #D2E3FC;\n",
              "    }\n",
              "\n",
              "    [theme=dark] .colab-df-convert:hover {\n",
              "      background-color: #434B5C;\n",
              "      box-shadow: 0px 1px 3px 1px rgba(0, 0, 0, 0.15);\n",
              "      filter: drop-shadow(0px 1px 2px rgba(0, 0, 0, 0.3));\n",
              "      fill: #FFFFFF;\n",
              "    }\n",
              "  </style>\n",
              "\n",
              "      <script>\n",
              "        const buttonEl =\n",
              "          document.querySelector('#df-64ac922a-e9a8-4a97-94f9-b4820edd4d5d button.colab-df-convert');\n",
              "        buttonEl.style.display =\n",
              "          google.colab.kernel.accessAllowed ? 'block' : 'none';\n",
              "\n",
              "        async function convertToInteractive(key) {\n",
              "          const element = document.querySelector('#df-64ac922a-e9a8-4a97-94f9-b4820edd4d5d');\n",
              "          const dataTable =\n",
              "            await google.colab.kernel.invokeFunction('convertToInteractive',\n",
              "                                                     [key], {});\n",
              "          if (!dataTable) return;\n",
              "\n",
              "          const docLinkHtml = 'Like what you see? Visit the ' +\n",
              "            '<a target=\"_blank\" href=https://colab.research.google.com/notebooks/data_table.ipynb>data table notebook</a>'\n",
              "            + ' to learn more about interactive tables.';\n",
              "          element.innerHTML = '';\n",
              "          dataTable['output_type'] = 'display_data';\n",
              "          await google.colab.output.renderOutput(dataTable, element);\n",
              "          const docLink = document.createElement('div');\n",
              "          docLink.innerHTML = docLinkHtml;\n",
              "          element.appendChild(docLink);\n",
              "        }\n",
              "      </script>\n",
              "    </div>\n",
              "  </div>\n",
              "  "
            ]
          },
          "metadata": {},
          "execution_count": 34
        }
      ]
    },
    {
      "cell_type": "code",
      "source": [
        "test_data=test_data.drop(['Unnamed: 0'], axis = 1)"
      ],
      "metadata": {
        "id": "YDQ8mjtDqlab"
      },
      "execution_count": 35,
      "outputs": []
    },
    {
      "cell_type": "code",
      "source": [
        "predictions= model.predict(test_data)"
      ],
      "metadata": {
        "id": "u3pcB0bsqN7g"
      },
      "execution_count": 36,
      "outputs": []
    },
    {
      "cell_type": "code",
      "source": [
        "print(predictions)"
      ],
      "metadata": {
        "colab": {
          "base_uri": "https://localhost:8080/"
        },
        "id": "TOJMnphtqwFI",
        "outputId": "e66017f6-75fb-42dc-b8b0-e154b92184ab"
      },
      "execution_count": 37,
      "outputs": [
        {
          "output_type": "stream",
          "name": "stdout",
          "text": [
            "['Independent' 'Republican' 'Republican' 'Republican' 'Republican'\n",
            " 'Independent' 'Independent' 'Independent' 'Republican' 'Independent'\n",
            " 'Independent' 'Republican' 'Republican' 'Republican' 'Republican'\n",
            " 'Independent' 'Independent' 'Republican' 'Independent' 'Independent'\n",
            " 'Republican' 'Republican' 'Independent' 'Republican' 'Republican'\n",
            " 'Republican' 'Republican' 'Independent' 'Republican' 'Republican'\n",
            " 'Independent' 'Independent' 'Independent' 'Republican' 'Republican'\n",
            " 'Independent' 'Republican' 'Independent' 'Independent' 'Republican'\n",
            " 'Republican' 'Independent' 'Republican' 'Republican' 'Independent'\n",
            " 'Independent' 'Republican' 'Republican' 'Independent' 'Republican'\n",
            " 'Republican' 'Republican' 'Republican' 'Republican' 'Independent'\n",
            " 'Independent' 'Republican' 'Republican' 'Independent' 'Republican'\n",
            " 'Republican' 'Independent' 'Independent' 'Independent' 'Republican'\n",
            " 'Republican' 'Independent' 'Republican' 'Independent' 'Independent'\n",
            " 'Independent' 'Independent' 'Independent' 'Independent' 'Independent'\n",
            " 'Independent' 'Independent' 'Independent' 'Independent' 'Republican'\n",
            " 'Independent' 'Republican' 'Republican' 'Republican' 'Republican'\n",
            " 'Independent' 'Independent' 'Republican' 'Republican' 'Independent'\n",
            " 'Independent' 'Independent' 'Independent' 'Republican' 'Republican'\n",
            " 'Independent' 'Republican' 'Republican' 'Republican' 'Independent'\n",
            " 'Independent' 'Republican' 'Independent' 'Independent' 'Republican'\n",
            " 'Independent' 'Republican' 'Independent' 'Independent' 'Independent'\n",
            " 'Republican' 'Republican' 'Independent' 'Republican' 'Independent'\n",
            " 'Republican' 'Republican' 'Independent' 'Republican' 'Independent'\n",
            " 'Republican' 'Republican' 'Republican' 'Republican' 'Independent'\n",
            " 'Independent' 'Republican' 'Independent' 'Republican' 'Republican'\n",
            " 'Independent' 'Republican' 'Independent' 'Republican' 'Independent'\n",
            " 'Independent' 'Republican' 'Independent' 'Republican' 'Republican'\n",
            " 'Republican' 'Independent' 'Republican' 'Independent' 'Republican'\n",
            " 'Independent' 'Independent' 'Independent' 'Independent' 'Independent'\n",
            " 'Republican' 'Republican' 'Republican' 'Republican' 'Republican'\n",
            " 'Republican' 'Republican' 'Independent' 'Republican' 'Independent'\n",
            " 'Independent' 'Republican' 'Independent' 'Republican' 'Republican'\n",
            " 'Republican' 'Republican' 'Republican' 'Independent' 'Independent'\n",
            " 'Independent' 'Republican' 'Republican' 'Republican' 'Republican'\n",
            " 'Independent' 'Independent' 'Independent' 'Independent' 'Independent'\n",
            " 'Republican' 'Republican' 'Independent' 'Republican' 'Republican'\n",
            " 'Independent' 'Republican' 'Independent' 'Republican' 'Independent'\n",
            " 'Independent' 'Independent' 'Independent' 'Independent' 'Republican'\n",
            " 'Republican' 'Republican' 'Independent' 'Republican' 'Republican'\n",
            " 'Republican']\n"
          ]
        }
      ]
    },
    {
      "cell_type": "code",
      "source": [
        "res = pd.DataFrame(predictions)"
      ],
      "metadata": {
        "id": "C1Mkq52AraFT"
      },
      "execution_count": 38,
      "outputs": []
    },
    {
      "cell_type": "code",
      "source": [
        "res.index = test_data.index "
      ],
      "metadata": {
        "id": "7Io12hnsrcXg"
      },
      "execution_count": 39,
      "outputs": []
    },
    {
      "cell_type": "code",
      "source": [
        "res.columns = [\"prediction\"]"
      ],
      "metadata": {
        "id": "UVXy6Q6LrciZ"
      },
      "execution_count": 40,
      "outputs": []
    },
    {
      "cell_type": "code",
      "source": [
        "print(res)"
      ],
      "metadata": {
        "colab": {
          "base_uri": "https://localhost:8080/"
        },
        "id": "zthQpPOdrcv3",
        "outputId": "d9bd926a-0ac3-4645-9eb4-a45a3c223ecb"
      },
      "execution_count": 41,
      "outputs": [
        {
          "output_type": "stream",
          "name": "stdout",
          "text": [
            "      prediction\n",
            "0    Independent\n",
            "1     Republican\n",
            "2     Republican\n",
            "3     Republican\n",
            "4     Republican\n",
            "..           ...\n",
            "196   Republican\n",
            "197  Independent\n",
            "198   Republican\n",
            "199   Republican\n",
            "200   Republican\n",
            "\n",
            "[201 rows x 1 columns]\n"
          ]
        }
      ]
    },
    {
      "cell_type": "code",
      "source": [
        "from google.colab import files\n"
      ],
      "metadata": {
        "id": "mBsY-tvFrvXt"
      },
      "execution_count": 42,
      "outputs": []
    },
    {
      "cell_type": "code",
      "source": [
        "res.to_csv('prediction_results.csv')         \n"
      ],
      "metadata": {
        "id": "jQ8xTvI2rvkG"
      },
      "execution_count": 43,
      "outputs": []
    },
    {
      "cell_type": "code",
      "source": [
        "files.download('prediction_results.csv')"
      ],
      "metadata": {
        "colab": {
          "base_uri": "https://localhost:8080/",
          "height": 17
        },
        "id": "K262CZMervwO",
        "outputId": "15ee4b90-e79e-47f1-93db-da2a344a5207"
      },
      "execution_count": 44,
      "outputs": [
        {
          "output_type": "display_data",
          "data": {
            "text/plain": [
              "<IPython.core.display.Javascript object>"
            ],
            "application/javascript": [
              "\n",
              "    async function download(id, filename, size) {\n",
              "      if (!google.colab.kernel.accessAllowed) {\n",
              "        return;\n",
              "      }\n",
              "      const div = document.createElement('div');\n",
              "      const label = document.createElement('label');\n",
              "      label.textContent = `Downloading \"${filename}\": `;\n",
              "      div.appendChild(label);\n",
              "      const progress = document.createElement('progress');\n",
              "      progress.max = size;\n",
              "      div.appendChild(progress);\n",
              "      document.body.appendChild(div);\n",
              "\n",
              "      const buffers = [];\n",
              "      let downloaded = 0;\n",
              "\n",
              "      const channel = await google.colab.kernel.comms.open(id);\n",
              "      // Send a message to notify the kernel that we're ready.\n",
              "      channel.send({})\n",
              "\n",
              "      for await (const message of channel.messages) {\n",
              "        // Send a message to notify the kernel that we're ready.\n",
              "        channel.send({})\n",
              "        if (message.buffers) {\n",
              "          for (const buffer of message.buffers) {\n",
              "            buffers.push(buffer);\n",
              "            downloaded += buffer.byteLength;\n",
              "            progress.value = downloaded;\n",
              "          }\n",
              "        }\n",
              "      }\n",
              "      const blob = new Blob(buffers, {type: 'application/binary'});\n",
              "      const a = document.createElement('a');\n",
              "      a.href = window.URL.createObjectURL(blob);\n",
              "      a.download = filename;\n",
              "      div.appendChild(a);\n",
              "      a.click();\n",
              "      div.remove();\n",
              "    }\n",
              "  "
            ]
          },
          "metadata": {}
        },
        {
          "output_type": "display_data",
          "data": {
            "text/plain": [
              "<IPython.core.display.Javascript object>"
            ],
            "application/javascript": [
              "download(\"download_a5b9df8e-24c8-4ce1-b7e8-da7f71b43cd6\", \"prediction_results.csv\", 3013)"
            ]
          },
          "metadata": {}
        }
      ]
    },
    {
      "cell_type": "markdown",
      "source": [
        "## KNN model"
      ],
      "metadata": {
        "id": "xCu_B8ArgrKO"
      }
    },
    {
      "cell_type": "code",
      "source": [
        "#from sklearn.neighbors import KNeighborsClassifier\n",
        "#model = KNeighborsClassifier(n_neighbors=3)\n",
        "#model.fit(x_train, y_train)"
      ],
      "metadata": {
        "id": "V6WiMQh1gdcZ"
      },
      "execution_count": 45,
      "outputs": []
    },
    {
      "cell_type": "code",
      "source": [
        "#x_train_prediction=model.predict(x_train)\n",
        "#training_data_accuracy=accuracy_score(x_train_prediction,y_train)"
      ],
      "metadata": {
        "id": "xMTxtqIzg0Z5"
      },
      "execution_count": 46,
      "outputs": []
    },
    {
      "cell_type": "code",
      "source": [
        "print(\"accuracy score of traing data:\",training_data_accuracy)"
      ],
      "metadata": {
        "colab": {
          "base_uri": "https://localhost:8080/"
        },
        "id": "RzBwmHL1g3va",
        "outputId": "15330b5d-12b4-49ef-a7d6-eed9d5541be4"
      },
      "execution_count": 47,
      "outputs": [
        {
          "output_type": "stream",
          "name": "stdout",
          "text": [
            "accuracy score of traing data: 0.35046728971962615\n"
          ]
        }
      ]
    },
    {
      "cell_type": "markdown",
      "source": [
        "till now , we have got best accuracy from KNN model "
      ],
      "metadata": {
        "id": "vwofTNXGg9dA"
      }
    },
    {
      "cell_type": "code",
      "source": [
        "#x_test_prediction=model.predict(x_test)\n",
        "#testing_data_accuracy=accuracy_score(x_test_prediction, y_test)"
      ],
      "metadata": {
        "id": "0dO8u9Nqg6VO"
      },
      "execution_count": 48,
      "outputs": []
    },
    {
      "cell_type": "code",
      "source": [
        "#print(\"accuracy score of testing data:\",testing_data_accuracy)"
      ],
      "metadata": {
        "id": "tAQN-PUCh70i"
      },
      "execution_count": 49,
      "outputs": []
    }
  ]
}